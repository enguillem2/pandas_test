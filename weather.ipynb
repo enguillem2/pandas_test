{
 "cells": [
  {
   "cell_type": "code",
   "execution_count": 27,
   "metadata": {},
   "outputs": [],
   "source": [
    "import requests\n",
    "import pandas as pd\n",
    "from libs import obtener_geolocalizacion\n",
    "\n",
    "# Configura tu clave API\n",
    "api_key = \"46b439c18259513d156c255aade428e9\"\n",
    "lat,lon = obtener_geolocalizacion()\n",
    "# Define los parámetros de tu solicitud\n",
    "params = {\n",
    "    \"lat\": lat,  # Latitud de Nueva York, como ejemplo\n",
    "    \"lon\": lon,  # Longitud de Nueva York\n",
    "    \"start\": 1609459200,  # Timestamp de inicio (1 de enero de 2021)\n",
    "    \"end\": 1640995200,  # Timestamp de fin (31 de diciembre de 2021)\n",
    "    \"appid\": api_key\n",
    "}\n",
    "\n",
    "# URL de la API de OpenWeatherMap para datos históricos\n",
    "url = \"https://api.openweathermap.org/data/2.5/weather\"\n",
    "# url=f\"https://api.openweathermap.org/data/3.0/onecall\" #?lat={lat}&lon={lon}&exclude={part}&appid={API key}\n",
    "# url=f\"https://api.openweathermap.org/data/3.0/onecall?lat=33.44&lon=-94.04&appid={api_key}\"\n",
    "# url=f\"http://api.openweathermap.org/data/2.5/weather?q=London,uk&APPID={api_key}\"\n",
    "\n",
    "# Realiza la solicitud\n",
    "response = requests.get(url, params=params)\n",
    "data = response.json()"
   ]
  },
  {
   "cell_type": "code",
   "execution_count": 28,
   "metadata": {},
   "outputs": [
    {
     "name": "stdout",
     "output_type": "stream",
     "text": [
      "{'coord': {'lon': -3.7026, 'lat': 40.4165}, 'weather': [{'id': 741, 'main': 'Fog', 'description': 'fog', 'icon': '50d'}], 'base': 'stations', 'main': {'temp': 277.57, 'feels_like': 276.38, 'temp_min': 272.68, 'temp_max': 282.66, 'pressure': 1032, 'humidity': 82}, 'visibility': 10000, 'wind': {'speed': 1.54, 'deg': 10}, 'clouds': {'all': 0}, 'dt': 1702978862, 'sys': {'type': 2, 'id': 2084029, 'country': 'ES', 'sunrise': 1702971189, 'sunset': 1703004617}, 'timezone': 3600, 'id': 6544494, 'name': 'Madrid City Center', 'cod': 200}\n"
     ]
    }
   ],
   "source": [
    "print(data)"
   ]
  },
  {
   "cell_type": "code",
   "execution_count": 29,
   "metadata": {},
   "outputs": [
    {
     "name": "stdout",
     "output_type": "stream",
     "text": [
      "{'temp': 277.57, 'feels_like': 276.38, 'temp_min': 272.68, 'temp_max': 282.66, 'pressure': 1032, 'humidity': 82}\n"
     ]
    }
   ],
   "source": [
    "print(data['main'])"
   ]
  }
 ],
 "metadata": {
  "kernelspec": {
   "display_name": ".venv",
   "language": "python",
   "name": "python3"
  },
  "language_info": {
   "codemirror_mode": {
    "name": "ipython",
    "version": 3
   },
   "file_extension": ".py",
   "mimetype": "text/x-python",
   "name": "python",
   "nbconvert_exporter": "python",
   "pygments_lexer": "ipython3",
   "version": "3.11.4"
  }
 },
 "nbformat": 4,
 "nbformat_minor": 2
}
