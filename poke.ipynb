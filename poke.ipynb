{
 "cells": [
  {
   "cell_type": "code",
   "execution_count": 1,
   "metadata": {},
   "outputs": [],
   "source": [
    "import pandas as pd\n",
    "\n",
    "df = pd.read_csv(\"poke.csv\")"
   ]
  },
  {
   "cell_type": "code",
   "execution_count": 7,
   "metadata": {},
   "outputs": [],
   "source": [
    "grouped_poke=df.groupby(['Type 1'])"
   ]
  },
  {
   "cell_type": "code",
   "execution_count": 11,
   "metadata": {},
   "outputs": [
    {
     "name": "stdout",
     "output_type": "stream",
     "text": [
      "              #                                               Name  \\\n",
      "Type 1                                                               \n",
      "Bug       23080  CaterpieMetapodButterfreeWeedleKakunaBeedrillB...   \n",
      "Dark      14302  UmbreonMurkrowSneaselHoundourHoundoomHoundoomM...   \n",
      "Dragon    15180  DratiniDragonairDragoniteAltariaAltariaMega Al...   \n",
      "Electric  15994  PikachuRaichuMagnemiteMagnetonVoltorbElectrode...   \n",
      "Fairy      7642  ClefairyClefableCleffaTogepiTogeticSnubbullGra...   \n",
      "Fighting   9824  MankeyPrimeapeMachopMachokeMachampHitmonleeHit...   \n",
      "Fire      17025  CharmanderCharmeleonCharizardCharizardMega Cha...   \n",
      "Flying     2711  TornadusIncarnate FormeTornadusTherian FormeNo...   \n",
      "Ghost     15568  GastlyHaunterGengarGengarMega GengarMisdreavus...   \n",
      "Grass     24141  BulbasaurIvysaurVenusaurVenusaurMega VenusaurO...   \n",
      "Ground    11401  SandshrewSandslashDiglettDugtrioCuboneMarowakR...   \n",
      "Ice       10165  JynxArticunoSwinubPiloswineDelibirdSmoochumSno...   \n",
      "Normal    31279  PidgeyPidgeottoPidgeotPidgeotMega PidgeotRatta...   \n",
      "Poison     7050  EkansArbokNidoran (Female)NidorinaNidoqueenNid...   \n",
      "Psychic   21706  AbraKadabraAlakazamAlakazamMega AlakazamDrowze...   \n",
      "Rock      17280  GeodudeGravelerGolemOnixOmanyteOmastarKabutoKa...   \n",
      "Steel     11957  SteelixSteelixMega SteelixSkarmoryMawileMawile...   \n",
      "Water     33946  SquirtleWartortleBlastoiseBlastoiseMega Blasto...   \n",
      "\n",
      "                                                     Type 2    HP  Attack  \\\n",
      "Type 1                                                                      \n",
      "Bug       FlyingPoisonPoisonPoisonPoisonGrassGrassPoison...  3925    4897   \n",
      "Dark      FlyingIceFireFireFireGhostGhostFlyingIceFighti...  2071    2740   \n",
      "Dragon    FlyingFlyingFairyFlyingFlyingPsychicPsychicPsy...  2666    3588   \n",
      "Electric  SteelSteelFlyingDragonSteelGhostFireWaterIceFl...  2631    3040   \n",
      "Fairy                                          FlyingFlying  1260    1046   \n",
      "Fighting          PsychicPsychicPsychicSteelSteelDarkFlying  1886    2613   \n",
      "Fire      FlyingDragonFlyingFlyingRockFlyingFightingFigh...  3635    4408   \n",
      "Flying                                         DragonDragon   283     315   \n",
      "Ghost     PoisonPoisonPoisonPoisonFlyingFlyingDarkDragon...  2062    2361   \n",
      "Grass     PoisonPoisonPoisonPoisonPoisonPoisonPoisonPois...  4709    5125   \n",
      "Ground    RockRockFlyingDragonDragonPsychicPsychicFireRo...  2361    3064   \n",
      "Ice       PsychicFlyingGroundGroundFlyingPsychicWaterWat...  1728    1746   \n",
      "Normal    FlyingFlyingFlyingFlyingFlyingFlyingFairyFairy...  7573    7200   \n",
      "Poison    GroundGroundFlyingFlyingFlyingDarkDarkBugDarkF...  1883    2091   \n",
      "Psychic   FairyFightingFlyingFlyingFlyingGrassFairyFairy...  4026    4073   \n",
      "Rock      GroundGroundGroundGroundWaterWaterWaterWaterFl...  2876    4086   \n",
      "Steel     GroundGroundFlyingFairyFairyRockRockRockPsychi...  1761    2503   \n",
      "Water     FightingPoisonPoisonPsychicPsychicPsychicIceIc...  8071    8305   \n",
      "\n",
      "          Defense  Sp. Atk  Sp. Def  Speed  Generation  Legendary  \n",
      "Type 1                                                             \n",
      "Bug          4880     3717     4471   4256         222          0  \n",
      "Dark         2177     2314     2155   2361         125          2  \n",
      "Dragon       2764     3099     2843   2657         124         12  \n",
      "Electric     2917     3961     3243   3718         144          4  \n",
      "Fairy        1117     1335     1440    826          70          1  \n",
      "Fighting     1780     1434     1747   1784          91          0  \n",
      "Fire         3524     4627     3755   3871         167          5  \n",
      "Flying        265      377      290    410          22          2  \n",
      "Ghost        2598     2539     2447   2059         134          2  \n",
      "Grass        4956     5425     4930   4335         235          3  \n",
      "Ground       2715     1807     2008   2045         101          4  \n",
      "Ice          1714     1861     1831   1523          85          2  \n",
      "Normal       5865     5470     6245   7012         299          2  \n",
      "Poison       1927     1692     1803   1780          71          0  \n",
      "Psychic      3858     5609     4918   4645         193         14  \n",
      "Rock         4435     2787     3321   2460         152          4  \n",
      "Steel        3412     1823     2177   1492         104          4  \n",
      "Water        8170     8379     7898   7388         320          4  \n"
     ]
    }
   ],
   "source": [
    "print(grouped_poke.sum())"
   ]
  },
  {
   "cell_type": "code",
   "execution_count": null,
   "metadata": {},
   "outputs": [],
   "source": []
  },
  {
   "cell_type": "code",
   "execution_count": null,
   "metadata": {},
   "outputs": [],
   "source": []
  }
 ],
 "metadata": {
  "kernelspec": {
   "display_name": ".venv",
   "language": "python",
   "name": "python3"
  },
  "language_info": {
   "codemirror_mode": {
    "name": "ipython",
    "version": 3
   },
   "file_extension": ".py",
   "mimetype": "text/x-python",
   "name": "python",
   "nbconvert_exporter": "python",
   "pygments_lexer": "ipython3",
   "version": "3.11.4"
  }
 },
 "nbformat": 4,
 "nbformat_minor": 2
}
